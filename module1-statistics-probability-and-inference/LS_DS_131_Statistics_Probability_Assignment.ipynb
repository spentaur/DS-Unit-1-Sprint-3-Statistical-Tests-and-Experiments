{
  "nbformat": 4,
  "nbformat_minor": 0,
  "metadata": {
    "kernelspec": {
      "display_name": "Python 3",
      "language": "python",
      "name": "python3"
    },
    "language_info": {
      "codemirror_mode": {
        "name": "ipython",
        "version": 3
      },
      "file_extension": ".py",
      "mimetype": "text/x-python",
      "name": "python",
      "nbconvert_exporter": "python",
      "pygments_lexer": "ipython3",
      "version": "3.7.3"
    },
    "colab": {
      "name": "LS_DS_131_Statistics_Probability_Assignment.ipynb",
      "version": "0.3.2",
      "provenance": [],
      "collapsed_sections": [],
      "include_colab_link": true
    }
  },
  "cells": [
    {
      "cell_type": "markdown",
      "metadata": {
        "id": "view-in-github",
        "colab_type": "text"
      },
      "source": [
        "<a href=\"https://colab.research.google.com/github/spentaur/DS-Unit-1-Sprint-3-Statistical-Tests-and-Experiments/blob/master/module1-statistics-probability-and-inference/LS_DS_131_Statistics_Probability_Assignment.ipynb\" target=\"_parent\"><img src=\"https://colab.research.google.com/assets/colab-badge.svg\" alt=\"Open In Colab\"/></a>"
      ]
    },
    {
      "cell_type": "markdown",
      "metadata": {
        "id": "kfvMTToFF5a2",
        "colab_type": "text"
      },
      "source": [
        "<img align=\"left\" src=\"https://lever-client-logos.s3.amazonaws.com/864372b1-534c-480e-acd5-9711f850815c-1524247202159.png\" width=200>\n",
        "<br></br>\n",
        "<br></br>\n",
        "\n",
        "## *Data Science Unit 1 Sprint 3 Assignment 1*\n",
        "\n",
        "# Apply the t-test to real data\n",
        "\n",
        "Your assignment is to determine which issues have \"statistically significant\" differences between political parties in this [1980s congressional voting data](https://archive.ics.uci.edu/ml/datasets/Congressional+Voting+Records). The data consists of 435 instances (one for each congressperson), a class (democrat or republican), and 16 binary attributes (yes or no for voting for or against certain issues). Be aware - there are missing values!\n",
        "\n",
        "Your goals:\n",
        "\n",
        "1. Load and clean the data (or determine the best method to drop observations when running tests)\n",
        "2. Using hypothesis testing, find an issue that democrats support more than republicans with p < 0.01\n",
        "3. Using hypothesis testing, find an issue that republicans support more than democrats with p < 0.01\n",
        "4. Using hypothesis testing, find an issue where the difference between republicans and democrats has p > 0.1 (i.e. there may not be much of a difference)\n",
        "\n",
        "Note that this data will involve *2 sample* t-tests, because you're comparing averages across two groups (republicans and democrats) rather than a single group against a null hypothesis.\n",
        "\n",
        "Stretch goals:\n",
        "\n",
        "1. Refactor your code into functions so it's easy to rerun with arbitrary variables\n",
        "2. Apply hypothesis testing to your personal project data (for the purposes of this notebook you can type a summary of the hypothesis you formed and tested)"
      ]
    },
    {
      "cell_type": "code",
      "metadata": {
        "id": "Golms8-0GCsO",
        "colab_type": "code",
        "colab": {}
      },
      "source": [
        "import pandas as pd\n",
        "import numpy as np\n",
        "import matplotlib.pyplot as plt\n",
        "import altair as alt\n",
        "import seaborn as sns\n",
        "plt.style.use('fivethirtyeight')\n",
        "%matplotlib inline\n",
        "from scipy.stats import ttest_ind, ttest_ind_from_stats, ttest_rel"
      ],
      "execution_count": 0,
      "outputs": []
    },
    {
      "cell_type": "code",
      "metadata": {
        "id": "Z2C3XfK3IDyA",
        "colab_type": "code",
        "colab": {}
      },
      "source": [
        "def start():\n",
        "    options = {\n",
        "        'display': {\n",
        "            'max_columns': None,\n",
        "            'max_colwidth': 25,\n",
        "            'expand_frame_repr': False,  # Don't wrap to multiple pages\n",
        "            'max_rows': 100,\n",
        "            'max_seq_items': 50,         # Max length of printed sequence\n",
        "            'precision': 4,\n",
        "            'show_dimensions': False\n",
        "        },\n",
        "        'mode': {\n",
        "            'chained_assignment': None   # Controls SettingWithCopyWarning\n",
        "        }\n",
        "    }\n",
        "    for category, option in options.items():\n",
        "        for op, value in option.items():\n",
        "            pd.set_option(f'{category}.{op}', value)  # Python 3.6+\n",
        "start()"
      ],
      "execution_count": 0,
      "outputs": []
    },
    {
      "cell_type": "code",
      "metadata": {
        "id": "VS-5JyEvGHFs",
        "colab_type": "code",
        "outputId": "2c809f14-aed6-4e31-c0ba-6533e5b0060f",
        "colab": {
          "base_uri": "https://localhost:8080/",
          "height": 36
        }
      },
      "source": [
        "columns = \"\"\"1. Class Name: 2 (democrat, republican)\n",
        "2. handicapped-infants: 2 (y,n)\n",
        "3. water-project-cost-sharing: 2 (y,n)\n",
        "4. adoption-of-the-budget-resolution: 2 (y,n)\n",
        "5. physician-fee-freeze: 2 (y,n)\n",
        "6. el-salvador-aid: 2 (y,n)\n",
        "7. religious-groups-in-schools: 2 (y,n)\n",
        "8. anti-satellite-test-ban: 2 (y,n)\n",
        "9. aid-to-nicaraguan-contras: 2 (y,n)\n",
        "10. mx-missile: 2 (y,n)\n",
        "11. immigration: 2 (y,n)\n",
        "12. synfuels-corporation-cutback: 2 (y,n)\n",
        "13. education-spending: 2 (y,n)\n",
        "14. superfund-right-to-sue: 2 (y,n)\n",
        "15. crime: 2 (y,n)\n",
        "16. duty-free-exports: 2 (y,n)\n",
        "17. export-administration-act-south-africa: 2 (y,n)\"\"\"\n",
        "\n",
        "# sloppy and slow, but data is small and it's quicker than writing everything \n",
        "# out by hand\n",
        "columns = columns.split(\"\\n\")\n",
        "columns = [c.split(\". \") for c in columns]\n",
        "columns = [c[1].split(\":\") for c in columns]\n",
        "columns = [c[0].replace('-', ' ') for c in columns]\n",
        "\n",
        "df = pd.read_csv('https://archive.ics.uci.edu/ml/machine-learning-databases/\\\n",
        "voting-records/house-votes-84.data', names=columns, na_values=\"?\", \n",
        "                true_values='y', false_values='n' )\n",
        "\n",
        "df.shape\n"
      ],
      "execution_count": 0,
      "outputs": [
        {
          "output_type": "execute_result",
          "data": {
            "text/plain": [
              "(435, 17)"
            ]
          },
          "metadata": {
            "tags": []
          },
          "execution_count": 3
        }
      ]
    },
    {
      "cell_type": "markdown",
      "metadata": {
        "id": "JRQmlCY13wTD",
        "colab_type": "text"
      },
      "source": [
        "\n",
        "4. Relevant Information:\n",
        "      This data set includes votes for each of the U.S. House of\n",
        "      Representatives Congressmen on the 16 key votes identified by the\n",
        "      CQA.  The CQA lists nine different types of votes: voted for, paired\n",
        "      for, and announced for (these three simplified to yea), voted\n",
        "      against, paired against, and announced against (these three\n",
        "      simplified to nay), voted present, voted present to avoid conflict\n",
        "      of interest, and did not vote or otherwise make a position known\n",
        "      (these three simplified to an unknown disposition).\n",
        "\n",
        "8. Missing Attribute Values: Denoted by \"?\"\n",
        "\n",
        "NOTE: It is important to recognize that \"?\" in this database does not mean that the value of the attribute is unknown.  It means simply, that the value is not \"yea\" or \"nay\" (see \"Relevant Information\" section above).\n",
        "\n",
        "   Attribute:  #Missing Values:\n",
        "           1:  0\n",
        "           2:  0\n",
        "           3:  12\n",
        "           4:  48\n",
        "           5:  11\n",
        "           6:  11\n",
        "           7:  15\n",
        "           8:  11\n",
        "           9:  14\n",
        "          10:  15\n",
        "          11:  22\n",
        "          12:  7\n",
        "          13:  21\n",
        "          14:  31\n",
        "          15:  25\n",
        "          16:  17\n",
        "          17:  28\n",
        "\n",
        "\n",
        "# ▼ all this didn't need to be done if i just read the docs lol"
      ]
    },
    {
      "cell_type": "code",
      "metadata": {
        "id": "cQJCulwqHyJX",
        "colab_type": "code",
        "outputId": "9d877dc0-9e88-4225-95d6-9c3ac7d7e323",
        "colab": {
          "base_uri": "https://localhost:8080/",
          "height": 367
        }
      },
      "source": [
        "(df.isna().sum() / len(df)) * 100"
      ],
      "execution_count": 0,
      "outputs": [
        {
          "output_type": "execute_result",
          "data": {
            "text/plain": [
              "Class Name                                 0.0000\n",
              "handicapped infants                        2.7586\n",
              "water project cost sharing                11.0345\n",
              "adoption of the budget resolution          2.5287\n",
              "physician fee freeze                       2.5287\n",
              "el salvador aid                            3.4483\n",
              "religious groups in schools                2.5287\n",
              "anti satellite test ban                    3.2184\n",
              "aid to nicaraguan contras                  3.4483\n",
              "mx missile                                 5.0575\n",
              "immigration                                1.6092\n",
              "synfuels corporation cutback               4.8276\n",
              "education spending                         7.1264\n",
              "superfund right to sue                     5.7471\n",
              "crime                                      3.9080\n",
              "duty free exports                          6.4368\n",
              "export administration act south africa    23.9080\n",
              "dtype: float64"
            ]
          },
          "metadata": {
            "tags": []
          },
          "execution_count": 4
        }
      ]
    },
    {
      "cell_type": "code",
      "metadata": {
        "id": "uiccAD-iKgEm",
        "colab_type": "code",
        "colab": {}
      },
      "source": [
        "df.drop(columns=['water project cost sharing', 'export administration act south africa'], inplace=True)"
      ],
      "execution_count": 0,
      "outputs": []
    },
    {
      "cell_type": "code",
      "metadata": {
        "id": "j8Z5IoKf11D_",
        "colab_type": "code",
        "outputId": "c37a50ec-7c72-419a-aca4-0c8855629e12",
        "colab": {
          "base_uri": "https://localhost:8080/",
          "height": 75
        }
      },
      "source": [
        "df['duty free exports'].value_counts()"
      ],
      "execution_count": 0,
      "outputs": [
        {
          "output_type": "execute_result",
          "data": {
            "text/plain": [
              "False    233\n",
              "True     174\n",
              "Name: duty free exports, dtype: int64"
            ]
          },
          "metadata": {
            "tags": []
          },
          "execution_count": 6
        }
      ]
    },
    {
      "cell_type": "code",
      "metadata": {
        "id": "0q0zxysVLmxj",
        "colab_type": "code",
        "outputId": "450d45bf-407b-47ea-dbc7-d354b28f2a3c",
        "colab": {
          "base_uri": "https://localhost:8080/",
          "height": 36
        }
      },
      "source": [
        "na_features = ((df.isna().sum() / len(df)) * 100)[1:].index\n",
        "\n",
        "no_na = df.dropna()\n",
        "\n",
        "no_na['Class Name'] = no_na['Class Name'].map({'democrat': 0, 'republican': 1}).astype(int)\n",
        "\n",
        "no_na.shape"
      ],
      "execution_count": 0,
      "outputs": [
        {
          "output_type": "execute_result",
          "data": {
            "text/plain": [
              "(312, 15)"
            ]
          },
          "metadata": {
            "tags": []
          },
          "execution_count": 7
        }
      ]
    },
    {
      "cell_type": "markdown",
      "metadata": {
        "id": "meuUiWUIrY7u",
        "colab_type": "text"
      },
      "source": [
        "312 after drop all na"
      ]
    },
    {
      "cell_type": "code",
      "metadata": {
        "id": "CcTgDY9FPJUU",
        "colab_type": "code",
        "outputId": "e72cd9f0-7336-4263-8be5-89f2c7de48c7",
        "colab": {
          "base_uri": "https://localhost:8080/",
          "height": 309
        }
      },
      "source": [
        "from sklearn import preprocessing\n",
        "from sklearn.model_selection import KFold\n",
        "from sklearn.linear_model import LogisticRegression\n",
        "\n",
        "models = {}\n",
        "\n",
        "for idx, feat in enumerate(no_na.columns):\n",
        "    X = no_na.drop(feat, axis=1).astype(int)\n",
        "    y = no_na[feat].astype(int)\n",
        "    logit = LogisticRegression(solver='lbfgs').fit(X,y)\n",
        "    print(feat,\" - \", logit.score(X,y))\n",
        "    models[feat] = logit"
      ],
      "execution_count": 0,
      "outputs": [
        {
          "output_type": "stream",
          "text": [
            "Class Name  -  0.9775641025641025\n",
            "handicapped infants  -  0.7532051282051282\n",
            "adoption of the budget resolution  -  0.8878205128205128\n",
            "physician fee freeze  -  0.9615384615384616\n",
            "el salvador aid  -  0.9743589743589743\n",
            "religious groups in schools  -  0.8878205128205128\n",
            "anti satellite test ban  -  0.8782051282051282\n",
            "aid to nicaraguan contras  -  0.9326923076923077\n",
            "mx missile  -  0.9134615384615384\n",
            "immigration  -  0.5897435897435898\n",
            "synfuels corporation cutback  -  0.7211538461538461\n",
            "education spending  -  0.9102564102564102\n",
            "superfund right to sue  -  0.8301282051282052\n",
            "crime  -  0.8846153846153846\n",
            "duty free exports  -  0.8141025641025641\n"
          ],
          "name": "stdout"
        }
      ]
    },
    {
      "cell_type": "markdown",
      "metadata": {
        "id": "0zVkjTMT4bxA",
        "colab_type": "text"
      },
      "source": [
        "interesting that class name can be predicted with a score of .977, but voted on immigration is just basically guessing."
      ]
    },
    {
      "cell_type": "code",
      "metadata": {
        "id": "X9MxM2eja_oH",
        "colab_type": "code",
        "colab": {}
      },
      "source": [
        "copy = df.copy()\n",
        "copy['Class Name'] = copy['Class Name'].map({'democrat': 0, 'republican': 1}).astype(int)"
      ],
      "execution_count": 0,
      "outputs": []
    },
    {
      "cell_type": "code",
      "metadata": {
        "id": "8u_I-GjRbWSZ",
        "colab_type": "code",
        "colab": {}
      },
      "source": [
        "for idx, row in copy.iterrows():\n",
        "    empties = np.where(row.isna() == True)[0]\n",
        "    if len(empties) == 1:\n",
        "        for index in empties:\n",
        "            feat = row.index[index]\n",
        "            X = row.drop(feat).astype(int)\n",
        "            model = models[feat]\n",
        "            predicted = model.predict(np.array(X).reshape(1,-1))[0]\n",
        "            copy.iloc[idx] = predicted"
      ],
      "execution_count": 0,
      "outputs": []
    },
    {
      "cell_type": "code",
      "metadata": {
        "id": "1ENfRsefl7SJ",
        "colab_type": "code",
        "outputId": "a058beaf-303b-4c3e-9489-7c76c28bdd88",
        "colab": {
          "base_uri": "https://localhost:8080/",
          "height": 328
        }
      },
      "source": [
        "(copy.isna().sum() / len(copy)) * 100"
      ],
      "execution_count": 0,
      "outputs": [
        {
          "output_type": "execute_result",
          "data": {
            "text/plain": [
              "Class Name                           0.0000\n",
              "handicapped infants                  2.2989\n",
              "adoption of the budget resolution    2.0690\n",
              "physician fee freeze                 2.5287\n",
              "el salvador aid                      2.7586\n",
              "religious groups in schools          1.6092\n",
              "anti satellite test ban              2.7586\n",
              "aid to nicaraguan contras            2.2989\n",
              "mx missile                           2.0690\n",
              "immigration                          1.3793\n",
              "synfuels corporation cutback         3.2184\n",
              "education spending                   4.1379\n",
              "superfund right to sue               3.6782\n",
              "crime                                3.2184\n",
              "duty free exports                    3.4483\n",
              "dtype: float64"
            ]
          },
          "metadata": {
            "tags": []
          },
          "execution_count": 11
        }
      ]
    },
    {
      "cell_type": "code",
      "metadata": {
        "id": "NCpFNY0GmCxa",
        "colab_type": "code",
        "outputId": "f4132223-bd3b-44b9-84dd-1889d8fc91f7",
        "colab": {
          "base_uri": "https://localhost:8080/",
          "height": 328
        }
      },
      "source": [
        "(df.isna().sum() / len(df)) * 100"
      ],
      "execution_count": 0,
      "outputs": [
        {
          "output_type": "execute_result",
          "data": {
            "text/plain": [
              "Class Name                           0.0000\n",
              "handicapped infants                  2.7586\n",
              "adoption of the budget resolution    2.5287\n",
              "physician fee freeze                 2.5287\n",
              "el salvador aid                      3.4483\n",
              "religious groups in schools          2.5287\n",
              "anti satellite test ban              3.2184\n",
              "aid to nicaraguan contras            3.4483\n",
              "mx missile                           5.0575\n",
              "immigration                          1.6092\n",
              "synfuels corporation cutback         4.8276\n",
              "education spending                   7.1264\n",
              "superfund right to sue               5.7471\n",
              "crime                                3.9080\n",
              "duty free exports                    6.4368\n",
              "dtype: float64"
            ]
          },
          "metadata": {
            "tags": []
          },
          "execution_count": 12
        }
      ]
    },
    {
      "cell_type": "code",
      "metadata": {
        "colab_type": "code",
        "id": "HErQIoRb3j-u",
        "colab": {}
      },
      "source": [
        "congess = copy.dropna()"
      ],
      "execution_count": 0,
      "outputs": []
    },
    {
      "cell_type": "markdown",
      "metadata": {
        "id": "WMCspCFN40SK",
        "colab_type": "text"
      },
      "source": [
        "so after reading the docs, i think the best way to handle the \"?\" values would be to keeo the original dataframe and just conditionally delete the features i don't need at that given time right? because it's not missing, it's just that the features aren't binary, there's 3 choices, yes, no, "
      ]
    },
    {
      "cell_type": "code",
      "metadata": {
        "id": "ery_v6YapwcH",
        "colab_type": "code",
        "outputId": "e8db49d8-efa6-44a9-b1f1-aad6934818ed",
        "colab": {
          "base_uri": "https://localhost:8080/",
          "height": 258
        }
      },
      "source": [
        "df = pd.read_csv('https://archive.ics.uci.edu/ml/machine-learning-databases/\\\n",
        "voting-records/house-votes-84.data', names=columns)\n",
        "\n",
        "# because ? doenst mean missing, it means other\n",
        "df.replace({'n': -1, \"y\": 1, \"?\": 0}, inplace=True)\n",
        "\n",
        "df.head()"
      ],
      "execution_count": 0,
      "outputs": [
        {
          "output_type": "execute_result",
          "data": {
            "text/html": [
              "<div>\n",
              "<style scoped>\n",
              "    .dataframe tbody tr th:only-of-type {\n",
              "        vertical-align: middle;\n",
              "    }\n",
              "\n",
              "    .dataframe tbody tr th {\n",
              "        vertical-align: top;\n",
              "    }\n",
              "\n",
              "    .dataframe thead th {\n",
              "        text-align: right;\n",
              "    }\n",
              "</style>\n",
              "<table border=\"1\" class=\"dataframe\">\n",
              "  <thead>\n",
              "    <tr style=\"text-align: right;\">\n",
              "      <th></th>\n",
              "      <th>Class Name</th>\n",
              "      <th>handicapped infants</th>\n",
              "      <th>water project cost sharing</th>\n",
              "      <th>adoption of the budget resolution</th>\n",
              "      <th>physician fee freeze</th>\n",
              "      <th>el salvador aid</th>\n",
              "      <th>religious groups in schools</th>\n",
              "      <th>anti satellite test ban</th>\n",
              "      <th>aid to nicaraguan contras</th>\n",
              "      <th>mx missile</th>\n",
              "      <th>immigration</th>\n",
              "      <th>synfuels corporation cutback</th>\n",
              "      <th>education spending</th>\n",
              "      <th>superfund right to sue</th>\n",
              "      <th>crime</th>\n",
              "      <th>duty free exports</th>\n",
              "      <th>export administration act south africa</th>\n",
              "    </tr>\n",
              "  </thead>\n",
              "  <tbody>\n",
              "    <tr>\n",
              "      <th>0</th>\n",
              "      <td>republican</td>\n",
              "      <td>-1</td>\n",
              "      <td>1</td>\n",
              "      <td>-1</td>\n",
              "      <td>1</td>\n",
              "      <td>1</td>\n",
              "      <td>1</td>\n",
              "      <td>-1</td>\n",
              "      <td>-1</td>\n",
              "      <td>-1</td>\n",
              "      <td>1</td>\n",
              "      <td>0</td>\n",
              "      <td>1</td>\n",
              "      <td>1</td>\n",
              "      <td>1</td>\n",
              "      <td>-1</td>\n",
              "      <td>1</td>\n",
              "    </tr>\n",
              "    <tr>\n",
              "      <th>1</th>\n",
              "      <td>republican</td>\n",
              "      <td>-1</td>\n",
              "      <td>1</td>\n",
              "      <td>-1</td>\n",
              "      <td>1</td>\n",
              "      <td>1</td>\n",
              "      <td>1</td>\n",
              "      <td>-1</td>\n",
              "      <td>-1</td>\n",
              "      <td>-1</td>\n",
              "      <td>-1</td>\n",
              "      <td>-1</td>\n",
              "      <td>1</td>\n",
              "      <td>1</td>\n",
              "      <td>1</td>\n",
              "      <td>-1</td>\n",
              "      <td>0</td>\n",
              "    </tr>\n",
              "    <tr>\n",
              "      <th>2</th>\n",
              "      <td>democrat</td>\n",
              "      <td>0</td>\n",
              "      <td>1</td>\n",
              "      <td>1</td>\n",
              "      <td>0</td>\n",
              "      <td>1</td>\n",
              "      <td>1</td>\n",
              "      <td>-1</td>\n",
              "      <td>-1</td>\n",
              "      <td>-1</td>\n",
              "      <td>-1</td>\n",
              "      <td>1</td>\n",
              "      <td>-1</td>\n",
              "      <td>1</td>\n",
              "      <td>1</td>\n",
              "      <td>-1</td>\n",
              "      <td>-1</td>\n",
              "    </tr>\n",
              "    <tr>\n",
              "      <th>3</th>\n",
              "      <td>democrat</td>\n",
              "      <td>-1</td>\n",
              "      <td>1</td>\n",
              "      <td>1</td>\n",
              "      <td>-1</td>\n",
              "      <td>0</td>\n",
              "      <td>1</td>\n",
              "      <td>-1</td>\n",
              "      <td>-1</td>\n",
              "      <td>-1</td>\n",
              "      <td>-1</td>\n",
              "      <td>1</td>\n",
              "      <td>-1</td>\n",
              "      <td>1</td>\n",
              "      <td>-1</td>\n",
              "      <td>-1</td>\n",
              "      <td>1</td>\n",
              "    </tr>\n",
              "    <tr>\n",
              "      <th>4</th>\n",
              "      <td>democrat</td>\n",
              "      <td>1</td>\n",
              "      <td>1</td>\n",
              "      <td>1</td>\n",
              "      <td>-1</td>\n",
              "      <td>1</td>\n",
              "      <td>1</td>\n",
              "      <td>-1</td>\n",
              "      <td>-1</td>\n",
              "      <td>-1</td>\n",
              "      <td>-1</td>\n",
              "      <td>1</td>\n",
              "      <td>0</td>\n",
              "      <td>1</td>\n",
              "      <td>1</td>\n",
              "      <td>1</td>\n",
              "      <td>1</td>\n",
              "    </tr>\n",
              "  </tbody>\n",
              "</table>\n",
              "</div>"
            ],
            "text/plain": [
              "   Class Name  handicapped infants  water project cost sharing  adoption of the budget resolution  physician fee freeze  el salvador aid  religious groups in schools  anti satellite test ban  aid to nicaraguan contras  mx missile  immigration  synfuels corporation cutback  education spending  superfund right to sue  crime  duty free exports  export administration act south africa\n",
              "0  republican                   -1                         1                          -1                              1                1                         1                          -1                        -1           -1            1                         0                       1                       1      1                 -1                         1              \n",
              "1  republican                   -1                         1                          -1                              1                1                         1                          -1                        -1           -1           -1                        -1                       1                       1      1                 -1                         0              \n",
              "2    democrat                    0                         1                           1                              0                1                         1                          -1                        -1           -1           -1                         1                      -1                       1      1                 -1                        -1              \n",
              "3    democrat                   -1                         1                           1                             -1                0                         1                          -1                        -1           -1           -1                         1                      -1                       1     -1                 -1                         1              \n",
              "4    democrat                    1                         1                           1                             -1                1                         1                          -1                        -1           -1           -1                         1                       0                       1      1                  1                         1              "
            ]
          },
          "metadata": {
            "tags": []
          },
          "execution_count": 39
        }
      ]
    },
    {
      "cell_type": "code",
      "metadata": {
        "id": "GMvnnMk0_UW9",
        "colab_type": "code",
        "outputId": "11dfa69f-aa46-4162-d937-d47f8b774298",
        "colab": {
          "base_uri": "https://localhost:8080/",
          "height": 1000
        }
      },
      "source": [
        "grouped = df.groupby('Class Name')\n",
        "for feat in df.columns[1:]:\n",
        "    dem_counts =grouped[feat].value_counts()[:3]\n",
        "    rep_counts =grouped[feat].value_counts()[3:]\n",
        "    print(feat)\n",
        "    print(\"reps yes ratio: \", (rep_counts[1] / rep_counts.sum()) * 100)\n",
        "    print(\"dems yes ratio: \", (dem_counts[1] / dem_counts.sum()) * 100)\n",
        "    print(\"\\n\")"
      ],
      "execution_count": 0,
      "outputs": [
        {
          "output_type": "stream",
          "text": [
            "handicapped infants\n",
            "reps yes ratio:  18.452380952380953\n",
            "dems yes ratio:  38.20224719101123\n",
            "\n",
            "\n",
            "water project cost sharing\n",
            "reps yes ratio:  43.452380952380956\n",
            "dems yes ratio:  44.569288389513105\n",
            "\n",
            "\n",
            "adoption of the budget resolution\n",
            "reps yes ratio:  13.095238095238097\n",
            "dems yes ratio:  10.861423220973784\n",
            "\n",
            "\n",
            "physician fee freeze\n",
            "reps yes ratio:  1.7857142857142856\n",
            "dems yes ratio:  5.2434456928838955\n",
            "\n",
            "\n",
            "el salvador aid\n",
            "reps yes ratio:  4.761904761904762\n",
            "dems yes ratio:  20.59925093632959\n",
            "\n",
            "\n",
            "religious groups in schools\n",
            "reps yes ratio:  10.119047619047619\n",
            "dems yes ratio:  46.06741573033708\n",
            "\n",
            "\n",
            "anti satellite test ban\n",
            "reps yes ratio:  23.214285714285715\n",
            "dems yes ratio:  22.09737827715356\n",
            "\n",
            "\n",
            "aid to nicaraguan contras\n",
            "reps yes ratio:  14.285714285714285\n",
            "dems yes ratio:  16.853932584269664\n",
            "\n",
            "\n",
            "mx missile\n",
            "reps yes ratio:  11.30952380952381\n",
            "dems yes ratio:  22.47191011235955\n",
            "\n",
            "\n",
            "immigration\n",
            "reps yes ratio:  43.452380952380956\n",
            "dems yes ratio:  46.441947565543074\n",
            "\n",
            "\n",
            "synfuels corporation cutback\n",
            "reps yes ratio:  12.5\n",
            "dems yes ratio:  47.19101123595505\n",
            "\n",
            "\n",
            "education spending\n",
            "reps yes ratio:  11.904761904761903\n",
            "dems yes ratio:  13.48314606741573\n",
            "\n",
            "\n",
            "superfund right to sue\n",
            "reps yes ratio:  13.095238095238097\n",
            "dems yes ratio:  27.340823970037455\n",
            "\n",
            "\n",
            "crime\n",
            "reps yes ratio:  4.166666666666666\n",
            "dems yes ratio:  33.70786516853933\n",
            "\n",
            "\n",
            "duty free exports\n",
            "reps yes ratio:  8.333333333333332\n",
            "dems yes ratio:  34.08239700374532\n",
            "\n",
            "\n",
            "export administration act south africa\n",
            "reps yes ratio:  29.761904761904763\n",
            "dems yes ratio:  30.711610486891384\n",
            "\n",
            "\n"
          ],
          "name": "stdout"
        }
      ]
    },
    {
      "cell_type": "code",
      "metadata": {
        "id": "22rIBJHTq0Q7",
        "colab_type": "code",
        "colab": {}
      },
      "source": [
        "rep = df.loc[df['Class Name'] == 'republican']\n",
        "dem = df.loc[df['Class Name'] == 'democrat']"
      ],
      "execution_count": 0,
      "outputs": []
    },
    {
      "cell_type": "code",
      "metadata": {
        "id": "hqTjTfDdrJby",
        "colab_type": "code",
        "outputId": "3644f5f0-f0cb-4017-a40f-7ad1ec55c42e",
        "colab": {
          "base_uri": "https://localhost:8080/",
          "height": 36
        }
      },
      "source": [
        "rep.shape, dem.shape"
      ],
      "execution_count": 0,
      "outputs": [
        {
          "output_type": "execute_result",
          "data": {
            "text/plain": [
              "((168, 17), (267, 17))"
            ]
          },
          "metadata": {
            "tags": []
          },
          "execution_count": 17
        }
      ]
    },
    {
      "cell_type": "code",
      "metadata": {
        "id": "m4Ft9DGgxytC",
        "colab_type": "code",
        "outputId": "0b33ab15-25b0-4bbb-9915-2c42c122c940",
        "colab": {
          "base_uri": "https://localhost:8080/",
          "height": 348
        }
      },
      "source": [
        "rep.mean().sort_values(ascending=False)"
      ],
      "execution_count": 0,
      "outputs": [
        {
          "output_type": "execute_result",
          "data": {
            "text/plain": [
              "physician fee freeze                      0.9583\n",
              "crime                                     0.9226\n",
              "el salvador aid                           0.8869\n",
              "religious groups in schools               0.7857\n",
              "education spending                        0.6845\n",
              "superfund right to sue                    0.6786\n",
              "export administration act south africa    0.2738\n",
              "immigration                               0.1131\n",
              "water project cost sharing                0.0119\n",
              "anti satellite test ban                  -0.5000\n",
              "handicapped infants                      -0.6131\n",
              "aid to nicaraguan contras                -0.6488\n",
              "synfuels corporation cutback             -0.6964\n",
              "adoption of the budget resolution        -0.7143\n",
              "mx missile                               -0.7560\n",
              "duty free exports                        -0.7619\n",
              "dtype: float64"
            ]
          },
          "metadata": {
            "tags": []
          },
          "execution_count": 18
        }
      ]
    },
    {
      "cell_type": "code",
      "metadata": {
        "id": "NFQPO2ltzYHH",
        "colab_type": "code",
        "outputId": "3b038efa-5312-4105-97aa-709e92fc7a94",
        "colab": {
          "base_uri": "https://localhost:8080/",
          "height": 348
        }
      },
      "source": [
        "dem.mean().sort_values()"
      ],
      "execution_count": 0,
      "outputs": [
        {
          "output_type": "execute_result",
          "data": {
            "text/plain": [
              "physician fee freeze                     -0.8652\n",
              "education spending                       -0.6629\n",
              "el salvador aid                          -0.5431\n",
              "superfund right to sue                   -0.3970\n",
              "crime                                    -0.2884\n",
              "immigration                              -0.0562\n",
              "religious groups in schools              -0.0449\n",
              "water project cost sharing                0.0037\n",
              "synfuels corporation cutback              0.0112\n",
              "handicapped infants                       0.2022\n",
              "duty free exports                         0.2584\n",
              "mx missile                                0.4794\n",
              "anti satellite test ban                   0.5281\n",
              "export administration act south africa    0.6030\n",
              "aid to nicaraguan contras                 0.6479\n",
              "adoption of the budget resolution         0.7566\n",
              "dtype: float64"
            ]
          },
          "metadata": {
            "tags": []
          },
          "execution_count": 19
        }
      ]
    },
    {
      "cell_type": "code",
      "metadata": {
        "id": "h6TOoK8Y1RfG",
        "colab_type": "code",
        "outputId": "2d4a1126-851e-464c-9a7d-18ed0141cc93",
        "colab": {
          "base_uri": "https://localhost:8080/",
          "height": 551
        }
      },
      "source": [
        "means = pd.DataFrame({'Rep': rep.mean(), 'Dem': dem.mean()})\n",
        "means"
      ],
      "execution_count": 0,
      "outputs": [
        {
          "output_type": "execute_result",
          "data": {
            "text/html": [
              "<div>\n",
              "<style scoped>\n",
              "    .dataframe tbody tr th:only-of-type {\n",
              "        vertical-align: middle;\n",
              "    }\n",
              "\n",
              "    .dataframe tbody tr th {\n",
              "        vertical-align: top;\n",
              "    }\n",
              "\n",
              "    .dataframe thead th {\n",
              "        text-align: right;\n",
              "    }\n",
              "</style>\n",
              "<table border=\"1\" class=\"dataframe\">\n",
              "  <thead>\n",
              "    <tr style=\"text-align: right;\">\n",
              "      <th></th>\n",
              "      <th>Rep</th>\n",
              "      <th>Dem</th>\n",
              "    </tr>\n",
              "  </thead>\n",
              "  <tbody>\n",
              "    <tr>\n",
              "      <th>handicapped infants</th>\n",
              "      <td>-0.6131</td>\n",
              "      <td>0.2022</td>\n",
              "    </tr>\n",
              "    <tr>\n",
              "      <th>water project cost sharing</th>\n",
              "      <td>0.0119</td>\n",
              "      <td>0.0037</td>\n",
              "    </tr>\n",
              "    <tr>\n",
              "      <th>adoption of the budget resolution</th>\n",
              "      <td>-0.7143</td>\n",
              "      <td>0.7566</td>\n",
              "    </tr>\n",
              "    <tr>\n",
              "      <th>physician fee freeze</th>\n",
              "      <td>0.9583</td>\n",
              "      <td>-0.8652</td>\n",
              "    </tr>\n",
              "    <tr>\n",
              "      <th>el salvador aid</th>\n",
              "      <td>0.8869</td>\n",
              "      <td>-0.5431</td>\n",
              "    </tr>\n",
              "    <tr>\n",
              "      <th>religious groups in schools</th>\n",
              "      <td>0.7857</td>\n",
              "      <td>-0.0449</td>\n",
              "    </tr>\n",
              "    <tr>\n",
              "      <th>anti satellite test ban</th>\n",
              "      <td>-0.5000</td>\n",
              "      <td>0.5281</td>\n",
              "    </tr>\n",
              "    <tr>\n",
              "      <th>aid to nicaraguan contras</th>\n",
              "      <td>-0.6488</td>\n",
              "      <td>0.6479</td>\n",
              "    </tr>\n",
              "    <tr>\n",
              "      <th>mx missile</th>\n",
              "      <td>-0.7560</td>\n",
              "      <td>0.4794</td>\n",
              "    </tr>\n",
              "    <tr>\n",
              "      <th>immigration</th>\n",
              "      <td>0.1131</td>\n",
              "      <td>-0.0562</td>\n",
              "    </tr>\n",
              "    <tr>\n",
              "      <th>synfuels corporation cutback</th>\n",
              "      <td>-0.6964</td>\n",
              "      <td>0.0112</td>\n",
              "    </tr>\n",
              "    <tr>\n",
              "      <th>education spending</th>\n",
              "      <td>0.6845</td>\n",
              "      <td>-0.6629</td>\n",
              "    </tr>\n",
              "    <tr>\n",
              "      <th>superfund right to sue</th>\n",
              "      <td>0.6786</td>\n",
              "      <td>-0.3970</td>\n",
              "    </tr>\n",
              "    <tr>\n",
              "      <th>crime</th>\n",
              "      <td>0.9226</td>\n",
              "      <td>-0.2884</td>\n",
              "    </tr>\n",
              "    <tr>\n",
              "      <th>duty free exports</th>\n",
              "      <td>-0.7619</td>\n",
              "      <td>0.2584</td>\n",
              "    </tr>\n",
              "    <tr>\n",
              "      <th>export administration act south africa</th>\n",
              "      <td>0.2738</td>\n",
              "      <td>0.6030</td>\n",
              "    </tr>\n",
              "  </tbody>\n",
              "</table>\n",
              "</div>"
            ],
            "text/plain": [
              "                              Rep     Dem\n",
              "handicapped infants       -0.6131  0.2022\n",
              "water project cost sha...  0.0119  0.0037\n",
              "adoption of the budget... -0.7143  0.7566\n",
              "physician fee freeze       0.9583 -0.8652\n",
              "el salvador aid            0.8869 -0.5431\n",
              "religious groups in sc...  0.7857 -0.0449\n",
              "anti satellite test ban   -0.5000  0.5281\n",
              "aid to nicaraguan contras -0.6488  0.6479\n",
              "mx missile                -0.7560  0.4794\n",
              "immigration                0.1131 -0.0562\n",
              "synfuels corporation c... -0.6964  0.0112\n",
              "education spending         0.6845 -0.6629\n",
              "superfund right to sue     0.6786 -0.3970\n",
              "crime                      0.9226 -0.2884\n",
              "duty free exports         -0.7619  0.2584\n",
              "export administration ...  0.2738  0.6030"
            ]
          },
          "metadata": {
            "tags": []
          },
          "execution_count": 20
        }
      ]
    },
    {
      "cell_type": "code",
      "metadata": {
        "id": "dHT9JBx240_g",
        "colab_type": "code",
        "outputId": "b64d926d-ef51-4d56-be52-35e3750e35d1",
        "colab": {
          "base_uri": "https://localhost:8080/",
          "height": 36
        }
      },
      "source": [
        "reps_support = (means['Rep'] - means['Dem']).sort_values(ascending=False)[:3].index\n",
        "reps_support"
      ],
      "execution_count": 0,
      "outputs": [
        {
          "output_type": "execute_result",
          "data": {
            "text/plain": [
              "Index(['physician fee freeze', 'el salvador aid', 'education spending'], dtype='object')"
            ]
          },
          "metadata": {
            "tags": []
          },
          "execution_count": 21
        }
      ]
    },
    {
      "cell_type": "code",
      "metadata": {
        "id": "cy-5UFxe5OyA",
        "colab_type": "code",
        "outputId": "ed6dce1a-3ad6-44aa-c107-e573acfc9b2f",
        "colab": {
          "base_uri": "https://localhost:8080/",
          "height": 75
        }
      },
      "source": [
        "dems_support = (means['Dem'] - means['Rep']).sort_values(ascending=False)[:3].index\n",
        "dems_support"
      ],
      "execution_count": 0,
      "outputs": [
        {
          "output_type": "execute_result",
          "data": {
            "text/plain": [
              "Index(['adoption of the budget resolution', 'aid to nicaraguan contras',\n",
              "       'mx missile'],\n",
              "      dtype='object')"
            ]
          },
          "metadata": {
            "tags": []
          },
          "execution_count": 22
        }
      ]
    },
    {
      "cell_type": "code",
      "metadata": {
        "id": "g8gZnBN0wDpy",
        "colab_type": "code",
        "colab": {}
      },
      "source": [
        "modes = pd.concat([rep.mode(), dem.mode()])"
      ],
      "execution_count": 0,
      "outputs": []
    },
    {
      "cell_type": "markdown",
      "metadata": {
        "id": "ZfnBfxc1rNFe",
        "colab_type": "text"
      },
      "source": [
        "### Using hypothesis testing, find an issue that democrats support more than republicans with p < 0.01\n",
        "\n"
      ]
    },
    {
      "cell_type": "code",
      "metadata": {
        "id": "ByQpy0wQrTec",
        "colab_type": "code",
        "outputId": "ee40c90a-7dc9-4b08-90cd-c4f252f61934",
        "colab": {
          "base_uri": "https://localhost:8080/",
          "height": 75
        }
      },
      "source": [
        "# dems support\n",
        "\n",
        "feat_pvals = {}\n",
        "\n",
        "for feat in dems_support:\n",
        "    _, pvalue = ttest_ind(rep[feat], dem[feat])\n",
        "    feat_pvals[feat] = format(pvalue, '.50f')\n",
        "\n",
        "feat_pvals"
      ],
      "execution_count": 0,
      "outputs": [
        {
          "output_type": "execute_result",
          "data": {
            "text/plain": [
              "{'adoption of the budget resolution': '0.00000000000000000000000000000000000000000000000000',\n",
              " 'aid to nicaraguan contras': '0.00000000000000000000000000000000000000000000000000',\n",
              " 'mx missile': '0.00000000000000000000000000000000000000000000004863'}"
            ]
          },
          "metadata": {
            "tags": []
          },
          "execution_count": 24
        }
      ]
    },
    {
      "cell_type": "code",
      "metadata": {
        "id": "du-Z3sn07pWT",
        "colab_type": "code",
        "outputId": "1ae15b5e-76fe-4291-b417-78a9d437c34a",
        "colab": {
          "base_uri": "https://localhost:8080/",
          "height": 75
        }
      },
      "source": [
        "# reps supoprt\n",
        "\n",
        "feat_pvals = {}\n",
        "\n",
        "for feat in reps_support:\n",
        "    _, pvalue = ttest_ind(rep[feat], dem[feat])\n",
        "    feat_pvals[feat] = format(pvalue, '.50f')\n",
        "\n",
        "feat_pvals"
      ],
      "execution_count": 0,
      "outputs": [
        {
          "output_type": "execute_result",
          "data": {
            "text/plain": [
              "{'education spending': '0.00000000000000000000000000000000000000000000000000',\n",
              " 'el salvador aid': '0.00000000000000000000000000000000000000000000000000',\n",
              " 'physician fee freeze': '0.00000000000000000000000000000000000000000000000000'}"
            ]
          },
          "metadata": {
            "tags": []
          },
          "execution_count": 25
        }
      ]
    },
    {
      "cell_type": "code",
      "metadata": {
        "id": "OwqP6lTc8nBh",
        "colab_type": "code",
        "outputId": "92a01307-afff-4c55-f39b-0f740a1f0ed2",
        "colab": {
          "base_uri": "https://localhost:8080/",
          "height": 328
        }
      },
      "source": [
        "# test them all?\n",
        "\n",
        "feat_pvals = {}\n",
        "\n",
        "for feat in df.columns[1:]:\n",
        "    tstat, pvalue = ttest_ind(rep[feat], dem[feat])\n",
        "    feat_pvals[feat] = format(pvalue, '.5f')\n",
        "\n",
        "sorted_d = sorted(feat_pvals.items(), key=lambda x: x[1], reverse=True)\n",
        "\n",
        "sorted_d"
      ],
      "execution_count": 0,
      "outputs": [
        {
          "output_type": "execute_result",
          "data": {
            "text/plain": [
              "[('water project cost sharing', '0.93020'),\n",
              " ('immigration', '0.08345'),\n",
              " ('handicapped infants', '0.00000'),\n",
              " ('adoption of the budget resolution', '0.00000'),\n",
              " ('physician fee freeze', '0.00000'),\n",
              " ('el salvador aid', '0.00000'),\n",
              " ('religious groups in schools', '0.00000'),\n",
              " ('anti satellite test ban', '0.00000'),\n",
              " ('aid to nicaraguan contras', '0.00000'),\n",
              " ('mx missile', '0.00000'),\n",
              " ('synfuels corporation cutback', '0.00000'),\n",
              " ('education spending', '0.00000'),\n",
              " ('superfund right to sue', '0.00000'),\n",
              " ('crime', '0.00000'),\n",
              " ('duty free exports', '0.00000'),\n",
              " ('export administration act south africa', '0.00000')]"
            ]
          },
          "metadata": {
            "tags": []
          },
          "execution_count": 26
        }
      ]
    },
    {
      "cell_type": "code",
      "metadata": {
        "id": "YX7Kke5oApji",
        "colab_type": "code",
        "outputId": "e9020cf8-d502-49b8-97fd-ac2afc5e4565",
        "colab": {
          "base_uri": "https://localhost:8080/",
          "height": 258
        }
      },
      "source": [
        "# i wanna test chaning y/n data\n",
        "df = pd.read_csv('https://archive.ics.uci.edu/ml/machine-learning-databases/\\\n",
        "voting-records/house-votes-84.data', names=columns)\n",
        "\n",
        "# because ? doenst mean missing, it means other\n",
        "df.replace({'n': 1, \"y\": 2, \"?\": 3}, inplace=True)\n",
        "\n",
        "df.head()"
      ],
      "execution_count": 0,
      "outputs": [
        {
          "output_type": "execute_result",
          "data": {
            "text/html": [
              "<div>\n",
              "<style scoped>\n",
              "    .dataframe tbody tr th:only-of-type {\n",
              "        vertical-align: middle;\n",
              "    }\n",
              "\n",
              "    .dataframe tbody tr th {\n",
              "        vertical-align: top;\n",
              "    }\n",
              "\n",
              "    .dataframe thead th {\n",
              "        text-align: right;\n",
              "    }\n",
              "</style>\n",
              "<table border=\"1\" class=\"dataframe\">\n",
              "  <thead>\n",
              "    <tr style=\"text-align: right;\">\n",
              "      <th></th>\n",
              "      <th>Class Name</th>\n",
              "      <th>handicapped infants</th>\n",
              "      <th>water project cost sharing</th>\n",
              "      <th>adoption of the budget resolution</th>\n",
              "      <th>physician fee freeze</th>\n",
              "      <th>el salvador aid</th>\n",
              "      <th>religious groups in schools</th>\n",
              "      <th>anti satellite test ban</th>\n",
              "      <th>aid to nicaraguan contras</th>\n",
              "      <th>mx missile</th>\n",
              "      <th>immigration</th>\n",
              "      <th>synfuels corporation cutback</th>\n",
              "      <th>education spending</th>\n",
              "      <th>superfund right to sue</th>\n",
              "      <th>crime</th>\n",
              "      <th>duty free exports</th>\n",
              "      <th>export administration act south africa</th>\n",
              "    </tr>\n",
              "  </thead>\n",
              "  <tbody>\n",
              "    <tr>\n",
              "      <th>0</th>\n",
              "      <td>republican</td>\n",
              "      <td>1</td>\n",
              "      <td>2</td>\n",
              "      <td>1</td>\n",
              "      <td>2</td>\n",
              "      <td>2</td>\n",
              "      <td>2</td>\n",
              "      <td>1</td>\n",
              "      <td>1</td>\n",
              "      <td>1</td>\n",
              "      <td>2</td>\n",
              "      <td>3</td>\n",
              "      <td>2</td>\n",
              "      <td>2</td>\n",
              "      <td>2</td>\n",
              "      <td>1</td>\n",
              "      <td>2</td>\n",
              "    </tr>\n",
              "    <tr>\n",
              "      <th>1</th>\n",
              "      <td>republican</td>\n",
              "      <td>1</td>\n",
              "      <td>2</td>\n",
              "      <td>1</td>\n",
              "      <td>2</td>\n",
              "      <td>2</td>\n",
              "      <td>2</td>\n",
              "      <td>1</td>\n",
              "      <td>1</td>\n",
              "      <td>1</td>\n",
              "      <td>1</td>\n",
              "      <td>1</td>\n",
              "      <td>2</td>\n",
              "      <td>2</td>\n",
              "      <td>2</td>\n",
              "      <td>1</td>\n",
              "      <td>3</td>\n",
              "    </tr>\n",
              "    <tr>\n",
              "      <th>2</th>\n",
              "      <td>democrat</td>\n",
              "      <td>3</td>\n",
              "      <td>2</td>\n",
              "      <td>2</td>\n",
              "      <td>3</td>\n",
              "      <td>2</td>\n",
              "      <td>2</td>\n",
              "      <td>1</td>\n",
              "      <td>1</td>\n",
              "      <td>1</td>\n",
              "      <td>1</td>\n",
              "      <td>2</td>\n",
              "      <td>1</td>\n",
              "      <td>2</td>\n",
              "      <td>2</td>\n",
              "      <td>1</td>\n",
              "      <td>1</td>\n",
              "    </tr>\n",
              "    <tr>\n",
              "      <th>3</th>\n",
              "      <td>democrat</td>\n",
              "      <td>1</td>\n",
              "      <td>2</td>\n",
              "      <td>2</td>\n",
              "      <td>1</td>\n",
              "      <td>3</td>\n",
              "      <td>2</td>\n",
              "      <td>1</td>\n",
              "      <td>1</td>\n",
              "      <td>1</td>\n",
              "      <td>1</td>\n",
              "      <td>2</td>\n",
              "      <td>1</td>\n",
              "      <td>2</td>\n",
              "      <td>1</td>\n",
              "      <td>1</td>\n",
              "      <td>2</td>\n",
              "    </tr>\n",
              "    <tr>\n",
              "      <th>4</th>\n",
              "      <td>democrat</td>\n",
              "      <td>2</td>\n",
              "      <td>2</td>\n",
              "      <td>2</td>\n",
              "      <td>1</td>\n",
              "      <td>2</td>\n",
              "      <td>2</td>\n",
              "      <td>1</td>\n",
              "      <td>1</td>\n",
              "      <td>1</td>\n",
              "      <td>1</td>\n",
              "      <td>2</td>\n",
              "      <td>3</td>\n",
              "      <td>2</td>\n",
              "      <td>2</td>\n",
              "      <td>2</td>\n",
              "      <td>2</td>\n",
              "    </tr>\n",
              "  </tbody>\n",
              "</table>\n",
              "</div>"
            ],
            "text/plain": [
              "   Class Name  handicapped infants  water project cost sharing  adoption of the budget resolution  physician fee freeze  el salvador aid  religious groups in schools  anti satellite test ban  aid to nicaraguan contras  mx missile  immigration  synfuels corporation cutback  education spending  superfund right to sue  crime  duty free exports  export administration act south africa\n",
              "0  republican                    1                         2                           1                              2                2                         2                           1                         1            1            2                         3                       2                       2      2                  1                         2              \n",
              "1  republican                    1                         2                           1                              2                2                         2                           1                         1            1            1                         1                       2                       2      2                  1                         3              \n",
              "2    democrat                    3                         2                           2                              3                2                         2                           1                         1            1            1                         2                       1                       2      2                  1                         1              \n",
              "3    democrat                    1                         2                           2                              1                3                         2                           1                         1            1            1                         2                       1                       2      1                  1                         2              \n",
              "4    democrat                    2                         2                           2                              1                2                         2                           1                         1            1            1                         2                       3                       2      2                  2                         2              "
            ]
          },
          "metadata": {
            "tags": []
          },
          "execution_count": 27
        }
      ]
    },
    {
      "cell_type": "code",
      "metadata": {
        "id": "XzZTMYOTAxog",
        "colab_type": "code",
        "colab": {}
      },
      "source": [
        "rep = df.loc[df['Class Name'] == 'republican']\n",
        "dem = df.loc[df['Class Name'] == 'democrat']"
      ],
      "execution_count": 0,
      "outputs": []
    },
    {
      "cell_type": "code",
      "metadata": {
        "id": "ZiI9a61vA350",
        "colab_type": "code",
        "outputId": "ab9c1e07-c0ed-4afb-d3a4-5689f7fd92fc",
        "colab": {
          "base_uri": "https://localhost:8080/",
          "height": 551
        }
      },
      "source": [
        "means = pd.DataFrame({'Rep': rep.mean(), 'Dem': dem.mean()})\n",
        "means"
      ],
      "execution_count": 0,
      "outputs": [
        {
          "output_type": "execute_result",
          "data": {
            "text/html": [
              "<div>\n",
              "<style scoped>\n",
              "    .dataframe tbody tr th:only-of-type {\n",
              "        vertical-align: middle;\n",
              "    }\n",
              "\n",
              "    .dataframe tbody tr th {\n",
              "        vertical-align: top;\n",
              "    }\n",
              "\n",
              "    .dataframe thead th {\n",
              "        text-align: right;\n",
              "    }\n",
              "</style>\n",
              "<table border=\"1\" class=\"dataframe\">\n",
              "  <thead>\n",
              "    <tr style=\"text-align: right;\">\n",
              "      <th></th>\n",
              "      <th>Rep</th>\n",
              "      <th>Dem</th>\n",
              "    </tr>\n",
              "  </thead>\n",
              "  <tbody>\n",
              "    <tr>\n",
              "      <th>handicapped infants</th>\n",
              "      <td>1.2202</td>\n",
              "      <td>1.6517</td>\n",
              "    </tr>\n",
              "    <tr>\n",
              "      <th>water project cost sharing</th>\n",
              "      <td>1.6845</td>\n",
              "      <td>1.6592</td>\n",
              "    </tr>\n",
              "    <tr>\n",
              "      <th>adoption of the budget resolution</th>\n",
              "      <td>1.1786</td>\n",
              "      <td>1.9176</td>\n",
              "    </tr>\n",
              "    <tr>\n",
              "      <th>physician fee freeze</th>\n",
              "      <td>2.0060</td>\n",
              "      <td>1.1124</td>\n",
              "    </tr>\n",
              "    <tr>\n",
              "      <th>el salvador aid</th>\n",
              "      <td>1.9702</td>\n",
              "      <td>1.2959</td>\n",
              "    </tr>\n",
              "    <tr>\n",
              "      <th>religious groups in schools</th>\n",
              "      <td>1.9107</td>\n",
              "      <td>1.5281</td>\n",
              "    </tr>\n",
              "    <tr>\n",
              "      <th>anti satellite test ban</th>\n",
              "      <td>1.3036</td>\n",
              "      <td>1.8090</td>\n",
              "    </tr>\n",
              "    <tr>\n",
              "      <th>aid to nicaraguan contras</th>\n",
              "      <td>1.2738</td>\n",
              "      <td>1.8464</td>\n",
              "    </tr>\n",
              "    <tr>\n",
              "      <th>mx missile</th>\n",
              "      <td>1.1488</td>\n",
              "      <td>1.8464</td>\n",
              "    </tr>\n",
              "    <tr>\n",
              "      <th>immigration</th>\n",
              "      <td>1.5833</td>\n",
              "      <td>1.4944</td>\n",
              "    </tr>\n",
              "    <tr>\n",
              "      <th>synfuels corporation cutback</th>\n",
              "      <td>1.2321</td>\n",
              "      <td>1.5730</td>\n",
              "    </tr>\n",
              "    <tr>\n",
              "      <th>education spending</th>\n",
              "      <td>1.9583</td>\n",
              "      <td>1.2697</td>\n",
              "    </tr>\n",
              "    <tr>\n",
              "      <th>superfund right to sue</th>\n",
              "      <td>1.9286</td>\n",
              "      <td>1.3858</td>\n",
              "    </tr>\n",
              "    <tr>\n",
              "      <th>crime</th>\n",
              "      <td>2.0238</td>\n",
              "      <td>1.4120</td>\n",
              "    </tr>\n",
              "    <tr>\n",
              "      <th>duty free exports</th>\n",
              "      <td>1.2262</td>\n",
              "      <td>1.7191</td>\n",
              "    </tr>\n",
              "    <tr>\n",
              "      <th>export administration act south africa</th>\n",
              "      <td>1.8333</td>\n",
              "      <td>2.2622</td>\n",
              "    </tr>\n",
              "  </tbody>\n",
              "</table>\n",
              "</div>"
            ],
            "text/plain": [
              "                              Rep     Dem\n",
              "handicapped infants        1.2202  1.6517\n",
              "water project cost sha...  1.6845  1.6592\n",
              "adoption of the budget...  1.1786  1.9176\n",
              "physician fee freeze       2.0060  1.1124\n",
              "el salvador aid            1.9702  1.2959\n",
              "religious groups in sc...  1.9107  1.5281\n",
              "anti satellite test ban    1.3036  1.8090\n",
              "aid to nicaraguan contras  1.2738  1.8464\n",
              "mx missile                 1.1488  1.8464\n",
              "immigration                1.5833  1.4944\n",
              "synfuels corporation c...  1.2321  1.5730\n",
              "education spending         1.9583  1.2697\n",
              "superfund right to sue     1.9286  1.3858\n",
              "crime                      2.0238  1.4120\n",
              "duty free exports          1.2262  1.7191\n",
              "export administration ...  1.8333  2.2622"
            ]
          },
          "metadata": {
            "tags": []
          },
          "execution_count": 29
        }
      ]
    },
    {
      "cell_type": "code",
      "metadata": {
        "id": "EoqH_N2RA9NJ",
        "colab_type": "code",
        "colab": {}
      },
      "source": [
        "reps_support = (means['Rep'] - means['Dem']).sort_values(ascending=False)[:3].index\n",
        "dems_support = (means['Dem'] - means['Rep']).sort_values(ascending=False)[:3].index"
      ],
      "execution_count": 0,
      "outputs": []
    },
    {
      "cell_type": "code",
      "metadata": {
        "id": "OZ0AMAefBLC4",
        "colab_type": "code",
        "outputId": "1506fe33-0dd6-4f19-844e-01131bbe0a23",
        "colab": {
          "base_uri": "https://localhost:8080/",
          "height": 75
        }
      },
      "source": [
        "feat_pvals = {}\n",
        "\n",
        "for feat in dems_support:\n",
        "    _, pvalue = ttest_ind(rep[feat], dem[feat])\n",
        "    feat_pvals[feat] = format(pvalue, '.50f')\n",
        "\n",
        "feat_pvals"
      ],
      "execution_count": 0,
      "outputs": [
        {
          "output_type": "execute_result",
          "data": {
            "text/plain": [
              "{'adoption of the budget resolution': '0.00000000000000000000000000000000000000000000000000',\n",
              " 'aid to nicaraguan contras': '0.00000000000000000000000000001077703924527596059076',\n",
              " 'mx missile': '0.00000000000000000000000000000000000000037496522204'}"
            ]
          },
          "metadata": {
            "tags": []
          },
          "execution_count": 31
        }
      ]
    }
  ]
}